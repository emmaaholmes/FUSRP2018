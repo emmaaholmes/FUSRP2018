{
 "cells": [
  {
   "cell_type": "markdown",
   "metadata": {},
   "source": [
    "## Wisdom Holman Algorithm \n",
    " - code computes Wisdom Holman algorithm with switching functions\n",
    " - computes symplecticity using autodiff\n",
    " - also computes energy error\n",
    " - includes functions for converting coordinate systems and arrays, plotting orbits, etc"
   ]
  },
  {
   "cell_type": "code",
   "execution_count": 15,
   "metadata": {
    "collapsed": true
   },
   "outputs": [],
   "source": [
    "import autograd.numpy as np  \n",
    "from autograd import jacobian\n",
    "import matplotlib.pyplot as plt\n",
    "import sys\n",
    "from datetime import datetime\n",
    "from mpl_toolkits import mplot3d\n",
    "%matplotlib inline "
   ]
  },
  {
   "cell_type": "markdown",
   "metadata": {},
   "source": [
    "Different initial conditions can be computed either using the function or choosing planets from the IC given for the outer gas giants:"
   ]
  },
  {
   "cell_type": "code",
   "execution_count": 2,
   "metadata": {
    "collapsed": true
   },
   "outputs": [],
   "source": [
    "def gettestdata(a,m1,m2,G):\n",
    "    \"\"\"given parameter a between 0 and 1 (distance between orbits=1-a)\n",
    "    returns initial conditions for circular orbits in format [[qsun,psun],[q1,p1],[q2,p2]]\n",
    "    test planets start on opposite sides\"\"\"\n",
    "    r1=(1.+a)\n",
    "    r2=2.\n",
    "    w1=[[r1,0.,0.],[0.,m1*np.sqrt(G/r1),0.]]\n",
    "    w2=[[-r2,0.,0.],[0.,m2*np.sqrt(G/r2),0.]]\n",
    "    return np.array([[[0.,0.,0.],[0.,0.,0.,]],w1,w2])\n",
    "\n",
    "G = 0.00029591220828559104\n",
    "state = gettestdata(0,1e-3,1e-3,G)\n",
    "mass = [1,1e-3,1e-3]\n",
    "\n",
    "# other test data\n",
    "sun = np.array([0,0,0,0,0,0])\n",
    "jupiter = np.array([-3.5023653,-3.8169847,-1.5507963,\n",
    "                    0.00565429,-0.00412490,-0.00190589])\n",
    "saturn = np.array([9.0755314,-3.0458353,-1.6483708,\n",
    "                   0.00168318,0.00483525,0.00192462])\n",
    "uranus = np.array([8.3101420,-16.2901086,-7.2521278,\n",
    "                   0.00354178,0.00137102,0.00055029])\n",
    "neptune = np.array([11.4707666,-25.7294829,-10.8169456,\n",
    "                    0.00288930,0.00114527,0.00039677])\n",
    "pluto = np.array([-15.5387357,-25.2225594,-3.1902382,\n",
    "                  0.00276725,-0.00170702,-0.00136504])\n",
    "\n",
    "\n",
    "masses_js = np.array((1,0.000954786104043,0.000285583733151))\n",
    "p_q_js = np.array([[sun[0:3],masses_js[0]*sun[3:6]],\n",
    "                   [jupiter[0:3],masses_js[1]*jupiter[3:6]],\n",
    "                   [saturn[0:3],masses_js[2]*saturn[3:6]]])"
   ]
  },
  {
   "cell_type": "markdown",
   "metadata": {},
   "source": [
    "Allows for conversion of coordinates from Cartesian to democratic heliocentric:"
   ]
  },
  {
   "cell_type": "code",
   "execution_count": 3,
   "metadata": {
    "collapsed": true
   },
   "outputs": [],
   "source": [
    "def cart_to_helio(old_vars,m):\n",
    "    \"\"\"\n",
    "    Converts Cartesian coordinates to democratic heliocentric coordinates.\n",
    "    old_vars: numpy array of variables in Cartesian coordinates, num_planets + 1 \n",
    "               by 2 by 3 array\n",
    "    m: masses of planets (same order as in old_vars number of planets + 1 by array)\n",
    "    returns: new array of variables, same shape and same order\n",
    "    \"\"\"\n",
    "    # preliminairies\n",
    "    n = len(old_vars)  # number of planets plus sun\n",
    "    m_tot = np.sum(m)  # total mass of all planets and sun\n",
    "    new_vars = np.zeros(np.shape(old_vars))  # initalize array of same shape\n",
    "    \n",
    "    #the P0s and Q0s\n",
    "    for i in range(n):\n",
    "        new_vars[0,0] += (m[i] / m_tot) * old_vars[i,0]\n",
    "        new_vars[0,1] += old_vars[i,1]\n",
    "        \n",
    "    ### other Ps and Qs\n",
    "    for i in range(1,n):\n",
    "        new_vars[i,0] = old_vars[i,0] - old_vars[0,0]\n",
    "        new_vars[i,1] = old_vars[i,1] - (m[i] / m_tot) * new_vars[0,1]\n",
    "        \n",
    "    return new_vars\n",
    "\n",
    "\n",
    "def helio_to_cart(old_vars,m):\n",
    "    \"\"\"\n",
    "    Converts democratic heliocentric coordinates to Cartesian coordinates.\n",
    "    old_vars: numpy array of variables in Cartesian coordinates, num_planets + 1 \n",
    "               by 2 by 3 array\n",
    "    m: masses of planets (same order as in old_vars number of planets + 1 by array)\n",
    "    returns: new array of variables, same shape and same order\n",
    "    \"\"\"\n",
    "    # preliminairies\n",
    "    n = len(old_vars)  # number of planets plus sun\n",
    "    m_tot = np.sum(m)  # total mass of all planets and sun\n",
    "    new_vars = np.zeros(np.shape(old_vars))  # initalize array of same shape\n",
    "    \n",
    "    ### the P0s and Q0s\n",
    "    # initialize\n",
    "    new_vars[0,0] = old_vars[0,0]\n",
    "    new_vars[0,1] = (m[0] / m_tot) * old_vars[0,1]\n",
    "    # iterate\n",
    "    for i in range(1,n):\n",
    "        new_vars[0,0] -= (m[i] / m_tot) * old_vars[i,0]\n",
    "        new_vars[0,1] -= old_vars[i,1]\n",
    "        \n",
    "    ### other Ps and Qs\n",
    "    for i in range(1,n):\n",
    "        new_vars[i,0] = new_vars[0,0] + old_vars[i,0]\n",
    "        new_vars[i,1] = (m[i] / m_tot) * old_vars[0,1] + old_vars[i,1]\n",
    "        \n",
    "    return new_vars\n",
    "\n",
    "def flatten(coords):\n",
    "    \" flattens num_objects by 2 by 3 array to 1d array\"\n",
    "    n = len(coords)\n",
    "    l = []\n",
    "    for i in range(n):\n",
    "        l += [coords[i,0,0],coords[i,0,1],coords[i,0,2]]\n",
    "    for i in range(n):\n",
    "        l += [coords[i,1,0],coords[i,1,1],coords[i,1,2]]\n",
    "    return np.array(l)"
   ]
  },
  {
   "cell_type": "markdown",
   "metadata": {},
   "source": [
    "Here are some switching functions to try:"
   ]
  },
  {
   "cell_type": "code",
   "execution_count": 4,
   "metadata": {
    "collapsed": true
   },
   "outputs": [],
   "source": [
    "def K1(x):\n",
    "    return 1\n",
    "\n",
    "def K0(x):\n",
    "    return 0  \n",
    "\n",
    "k = 5.\n",
    "def Kt(x):\n",
    "    y = 1 - x\n",
    "    return 1./2.*(1. + np.tanh(k*y))\n",
    "\n",
    "\n",
    "def Kdt(x):\n",
    "    y = 1 - x\n",
    "    #return 0. # Setting the derivative to zero somehow makes the result better. \n",
    "    return -k/2./(np.cosh(k*y))**2\n",
    "\n",
    "def Heavi(x):\n",
    "    \"\"\" \n",
    "    Returns Heaviside function with switch at x = 0.5\n",
    "    x : flt\n",
    "    \"\"\"\n",
    "    if x < 0.5:\n",
    "        return 0\n",
    "    else:\n",
    "        return 1\n",
    "    \n",
    "def Heavi_deriv(x):\n",
    "    \"\"\" Returns derivative of the Heaviside function with switch at x = 0.5\n",
    "    x : flt\n",
    "    \"\"\"\n",
    "    if x == 0.5:\n",
    "        return np.inf\n",
    "    else:\n",
    "        return 0"
   ]
  },
  {
   "cell_type": "markdown",
   "metadata": {},
   "source": [
    "This function computes the energy (Hamiltonian) of an array of position and momenta:"
   ]
  },
  {
   "cell_type": "code",
   "execution_count": 5,
   "metadata": {
    "collapsed": true
   },
   "outputs": [],
   "source": [
    "def energy(qp,m,G):\n",
    "    \"\"\"\n",
    "    Returns Hamiltonian given position and velocity in heliocentric coordinates\n",
    "    qp: 1D array x1,y1,z1,x2,...,zn,px1,...,pzn (np array size (n*2*3,))\n",
    "    m: num planets + 1 array of masses (np array size (n,))\n",
    "    G: gravitational constant (flt)\n",
    "    Returns: energy (flt)\n",
    "    \"\"\"\n",
    "    n = int(len(qp)/6)\n",
    "    q, p = qp[0:3*n], qp[3*n:]\n",
    "    V = 0  # potential energy\n",
    "    T = 0  # kinetic energy\n",
    "    \n",
    "    for i in range(1,n):\n",
    "        V -= G * m[i] * m[0] / (np.dot(q[i*n:i*n+3],q[i*n:i*n+3])**0.5)\n",
    "        for j in range(1,i):\n",
    "            diff = q[i*n:i*n+3]-q[j*n:j*n+3]\n",
    "            V -= G * m[i] * m[j] / np.dot(diff,diff)**0.5\n",
    "    T += np.dot(p[0:3],p[0:3]) / (2*np.sum(m))\n",
    "    P_tot = 0\n",
    "    for i in range(1,n):\n",
    "        T += np.dot(p[i*n:i*n+3],p[i*n:i*n+3])/(2*m[i])\n",
    "        P_tot += p[i*n:i*n+3]\n",
    "    T += np.dot(P_tot,P_tot) / (2 * m[0])\n",
    "    \n",
    "    return V + T"
   ]
  },
  {
   "cell_type": "markdown",
   "metadata": {},
   "source": [
    "These functions compute dR for the different steps of Wisdom Holman. I have them separate because H_B1, H_B2, H_A take different arguments but it would be nice to have one function that can be used in all three cases."
   ]
  },
  {
   "cell_type": "code",
   "execution_count": 6,
   "metadata": {
    "collapsed": true
   },
   "outputs": [],
   "source": [
    "def dR_HB1(f,qp,m,h,G):\n",
    "    \"\"\" \n",
    "    Calculates the symplecticity of HB1\n",
    "    f: function to check symplecticity of (function)\n",
    "    qp: initial position and momenta (1D np array of x1,y1,...,pyn,pzn)\n",
    "    m: array of masses, same order as planets (1d numpy array of size n)\n",
    "    G: gravitational constant (flt)\n",
    "    Returns: Sum of elements in remainder matrix (dR), flt\n",
    "    \"\"\"\n",
    "    n = int(len(qp)/2)\n",
    "    getJ = jacobian(f,0)\n",
    "    J = getJ(qp,m,h,G)\n",
    "    one = np.identity(n)\n",
    "    zero = np.zeros((n,n))\n",
    "    I = np.bmat([[zero,one],[-one,zero]])\n",
    "    return np.sum(abs(I-J.T*I*J))\n",
    "\n",
    "def dR_HB2(f,qp,m,h,G,K,Kd):\n",
    "    \"\"\" \n",
    "    Calculates the symplecticity of HB2\n",
    "    f: function to check symplecticity of (function)\n",
    "    qp: initial position and momenta (1D np array of x1,y1,...,pyn,pzn)\n",
    "    m: array of masses, same order as planets (1d numpy array of size n)\n",
    "    G: gravitational constant (flt)\n",
    "    K, Kd: switching function and its derivative (functions)\n",
    "    Returns: Sum of elements in remainder matrix (dR), flt\n",
    "    \"\"\"\n",
    "    n = int(len(qp)/2)\n",
    "    getJ = jacobian(f,0)\n",
    "    J = getJ(qp,m,h,G,K,Kd)\n",
    "    one = np.identity(n)\n",
    "    zero = np.zeros((n,n))\n",
    "    I = np.bmat([[zero,one],[-one,zero]])\n",
    "    return np.sum(abs(I-J.T*I*J))\n",
    "\n",
    "def dR_HA(f,qp,m,h,G,K,Kd,dt_steps):\n",
    "    \"\"\" \n",
    "    Calculates the symplecticity of HB2\n",
    "    f: function to check symplecticity of (function)\n",
    "    qp: initial position and momenta (1D np array of x1,y1,...,pyn,pzn)\n",
    "    m: array of masses, same order as planets (1d numpy array of size n)\n",
    "    G: gravitational constant (flt)\n",
    "    K, Kd: switching function and its derivative (functions)\n",
    "    dt_steps: number of steps taken by Runge Kutta (int)\n",
    "    Returns: Sum of elements in remainder matrix (dR), flt\n",
    "    \"\"\"\n",
    "    n = int(len(qp)/2)\n",
    "    getJ = jacobian(f,0)\n",
    "    J = getJ(qp,m,h,G,K,Kd,dt_steps)\n",
    "    one = np.identity(n)\n",
    "    zero = np.zeros((n,n))\n",
    "    I = np.bmat([[zero,one],[-one,zero]])\n",
    "    return np.sum(abs(I-J.T*I*J))"
   ]
  },
  {
   "cell_type": "markdown",
   "metadata": {},
   "source": [
    "Now the code for the Wisdom Holman algorithm"
   ]
  },
  {
   "cell_type": "code",
   "execution_count": 7,
   "metadata": {
    "collapsed": true
   },
   "outputs": [],
   "source": [
    "def H_B1(qp,m,h,G):\n",
    "    \"\"\"\n",
    "    Computes H_B1 step of Wisdom Holman map\n",
    "    qp: 1D array x1,y1,z1,x2,...,zn,px1,...,pzn (np array size (n*2*3,))\n",
    "    m: num planets + 1 array of masses (np array size (n,))\n",
    "    G: gravitational constant (flt)\n",
    "    h: step size (flt)\n",
    "    Returns: np array size (n*2*3,), updated positions and momenta\n",
    "    \"\"\"\n",
    "    n = int(len(qp)/6)  # number of objects\n",
    "    q,p = qp[0:3*n],qp[3*n:]  # split up p and q\n",
    "    \n",
    "    # compute total momentum\n",
    "    ptot = np.zeros((3,))\n",
    "    for i in range(1,n):\n",
    "        ptot = ptot + p[i*3:i*3+3]\n",
    "        \n",
    "    newq = [q[0],q[1],q[2]]  # sun's position unchanged\n",
    "    # update other positions \n",
    "    for i in range(1,n):\n",
    "        update = q[i*3:i*3+3] + ptot * h / m[0]\n",
    "        newq += [update[0]] + [update[1]] + [update[2]]\n",
    "    \n",
    "    newq = np.array(newq)\n",
    "    return np.array([newq,p]).flatten()\n",
    "\n",
    "\n",
    "def H_B2(qp,m,h,G,K,Kd):\n",
    "    \"\"\"\n",
    "    Computes H_B2 step of Wisdom Holman map\n",
    "    qp: 1D array x1,y1,z1,x2,...,zn,px1,...,pzn (np array size (n*2*3,))\n",
    "    m: num planets + 1 array of masses (np array size (n,))\n",
    "    G: gravitational constant (flt)\n",
    "    h: step size (flt)\n",
    "    K, Kd: switching function and its derivative (functions)\n",
    "    Returns: np array size (n*2*3,), updated positions and momenta\n",
    "    \"\"\"\n",
    "    n = int(len(qp)/6)  # number of objects\n",
    "    q, p = qp[0:3*n], qp[3*n:]  # separate p and q\n",
    "    \n",
    "    newp = []  # initalize list of new momenta\n",
    "    \n",
    "    for i in range(0,n):\n",
    "        xsum, ysum, zsum = 0, 0, 0  # initalize sums for positions\n",
    "        for j in range(1,n):\n",
    "            if i != j and i>0:\n",
    "                rel_pos = q[i*3:i*3+3] - q[j*3:j*3+3]\n",
    "                rel_pos_norm = np.dot(rel_pos,rel_pos)**0.5\n",
    "                f_1 = (G * m[i] * m[j]) * (rel_pos) * K(rel_pos) \\\n",
    "                        / (rel_pos_norm ** 3)\n",
    "                f_2 = (G * m[i] * m[j]) * (rel_pos) * Kd(rel_pos) / ((rel_pos_norm)**2)\n",
    "                f = f_1 + f_2\n",
    "                xsum += f[0]\n",
    "                ysum += f[1]\n",
    "                zsum += f[2]\n",
    "        newp += [xsum] + [ysum] + [zsum]  \n",
    "    # update momenta        \n",
    "    newp = p - h * np.array(newp)\n",
    "    return np.array([q,newp]).flatten()\n",
    "\n",
    "    \n",
    "def HA_function(qp,m,G,K,Kd):\n",
    "    \"\"\"\n",
    "    Computes H_A step of Wisdom Holman map\n",
    "    qp: 1D array x1,y1,z1,x2,...,zn,px1,...,pzn (np array size (n*2*3,))\n",
    "    m: num planets + 1 array of masses (np array size (n,))\n",
    "    G: gravitational constant (flt)\n",
    "    h: step size (flt)\n",
    "    K, Kd: switching function and its derivative (functions)\n",
    "    Returns: np array size (n*2*3,), updated positions and momenta\n",
    "    \"\"\"\n",
    "    n = int(len(qp)/6)  # number of objects\n",
    "    q, p = qp[0:3*n], qp[3*n:]  # separate p and q\n",
    "    \n",
    "    newq = [0,0,0]  # initialize new positions\n",
    "    # update position\n",
    "    for i in range(1,n):\n",
    "        newq += [p[i*3]/m[i]] + [p[i*3+1]/m[i]] + [p[i*3+2]/m[i]]\n",
    "    \n",
    "    newp = []  # initalize new momenta\n",
    "    for i in range(0,n):\n",
    "        if i > 0 :\n",
    "            P = - G * m[i] * m[0] * q[i*3:i*3+3] / np.dot(q[i*3:i*3+3],q[i*3:i*3+3])**1.5\n",
    "        else: P = [0,0,0]\n",
    "        xsum, ysum, zsum = P[0], P[1], P[2]\n",
    "        for j in range(1,n):\n",
    "            if i != j and i>0:\n",
    "                rel_pos = q[i*3:i*3+3] - q[j*3:j*3+3]\n",
    "                rel_pos_norm = np.dot(rel_pos,rel_pos)**0.5\n",
    "                f_1 = (G * m[i] * m[j]) * (rel_pos) * (1-K(rel_pos)) \\\n",
    "                        / (rel_pos_norm ** 3)\n",
    "                f_2 = - (G * m[i] * m[j]) * (rel_pos) * Kd(rel_pos) / ((rel_pos_norm)**2)\n",
    "                f = f_1 + f_2\n",
    "                xsum += f[0]\n",
    "                ysum += f[1]\n",
    "                zsum += f[2]\n",
    "        newp = newp + [xsum] + [ysum] + [zsum] \n",
    "        \n",
    "    # new arrays for p and q (not updating with h because we use RK)\n",
    "    newq = np.array(newq)\n",
    "    newp = np.array(newp)\n",
    "    return np.array([newq,newp]).flatten()\n",
    "\n",
    "\n",
    "def H_A(qp,m,G,h,K,Kd,dt_steps):\n",
    "    \"\"\"\n",
    "    Computes H_A step using Runge Kutta\n",
    "    qp: 1D array x1,y1,z1,x2,...,zn,px1,...,pzn (np array size (n*2*3,))\n",
    "    m: num planets + 1 array of masses (np array size (n,))\n",
    "    G: gravitational constant (flt)\n",
    "    h: step size (flt)\n",
    "    K, Kd: switching function and its derivative (functions)\n",
    "    dt_steps: number of Runge Kutta steps per global time step (int)\n",
    "    Returns: np array size (n*2*3,), updated positions and momenta\n",
    "    \"\"\"\n",
    "    dt = h / dt_steps\n",
    "    for i in range(dt_steps):\n",
    "        k1 = dt * HA_function(qp,m,G,K,Kd)\n",
    "        k2 = dt * HA_function(qp+0.5*k1,m,G,K,Kd)\n",
    "        k3 = dt * HA_function(qp+0.5*k2,m,G,K,Kd)\n",
    "        k4 = dt * HA_function(qp+k3,m,G,K,Kd)\n",
    "        qp = qp + (k1 + 2 * k2 + 2 * k3 + k4) / 6.\n",
    "    return qp\n",
    "\n",
    "\n",
    "\n",
    "def WH_switch(qp,G,m,h,K,Kd,dt_steps):\n",
    "    \"\"\"\n",
    "    Computes one step of the Wisdom Holman map and the symplecticity of each part\n",
    "    qp: 1D array x1,y1,z1,x2,...,zn,px1,...,pzn (np array size (n*2*3,))\n",
    "    m: num planets + 1 array of masses (np array size (n,))\n",
    "    G: gravitational constant (flt)\n",
    "    h: step size (flt)\n",
    "    K, Kd: switching function and its derivative (functions)\n",
    "    dt_steps: number of Runge Kutta steps per global time step (int)\n",
    "    Returns: tuple\n",
    "            Zeroeth entry is results of WH\n",
    "            First entry is symplecticity of H_B1 step\n",
    "            Second entry is symplecticity of H_B2 step\n",
    "            Third entry is symplecticity of H_A step\n",
    "    \"\"\"\n",
    "    res = qp.copy()\n",
    "    # H_B1\n",
    "    res = H_B1(res,m,h/2,G)  \n",
    "    sympB1 = dR_HB1(H_B1,res,m,h/2,G)\n",
    "    # H_B2\n",
    "    res = H_B2(res,m,h/2,G,K,Kd)\n",
    "    sympB2 = dR_HB2(H_B2,res,m,h/2,G,K,Kd)\n",
    "    # H_A\n",
    "    res = H_A(res,m,h,G,K,Kd,dt_steps)\n",
    "    sympA = dR_HA(H_A,res,m,h/2,G,K,Kd,dt_steps)\n",
    "    # H_B1\n",
    "    res = H_B2(res,m,h/2,G,K,Kd)\n",
    "    sympB2 += dR_HB2(H_B2,res,m,h/2,G,K,Kd)\n",
    "    # H_B2\n",
    "    res = H_B1(res,m,h/2,G)\n",
    "    sympB1 += dR_HB1(H_B1,res,m,h/2,G)\n",
    "    \n",
    "    return res, sympB1, sympB2, sympA\n",
    "\n",
    "\n",
    "def WH_map(IC,m,h,G,time,K,Kd,dt_steps):\n",
    "    \"\"\"\n",
    "    Computes Wisdom Holman algorithm\n",
    "    IC: 1D array of initial conditions x1,y1,z1,x2,...,zn,px1,...,pzn (np array size (n*2*3,))\n",
    "    m: num planets + 1 array of masses (np array size (n,))\n",
    "    h: step size (flt)\n",
    "    time: number of years to run algorithm for (flt)\n",
    "    G: gravitational constant (flt)\n",
    "    K, Kd: switching function and its derivative (functions)\n",
    "    dt_steps: number of Runge Kutta steps per global time step (int)\n",
    "    Returns: tuple\n",
    "            Zeroeth entry is results array at each step (np array shape num_steps by n*6)\n",
    "            First entry is energy error at each step\n",
    "            Second entry is dR at each step\n",
    "    \"\"\" \n",
    "    # initialize results array\n",
    "    num_steps = int((365.25 / h) * time)\n",
    "    res = np.zeros((num_steps,) + np.shape(IC))\n",
    "    E = np.zeros(num_steps)\n",
    "    dRB1 = np.zeros(num_steps)\n",
    "    dRB2 = np.zeros(num_steps)\n",
    "    dRA = np.zeros(num_steps)\n",
    "    dR = np.zeros(num_steps)\n",
    "    \n",
    "    # initialize arrays\n",
    "    res[0] = IC\n",
    "    E[0] = energy(IC,m,G)\n",
    "    dRB1[0] = dR_HB1(H_B1,IC,m,h/2,G)\n",
    "    dRB2[0] = dR_HB2(H_B2,IC,m,h/2,G,K,Kd)\n",
    "    dRA[0] = dR_HA(H_A,IC,m,h/2,G,K,Kd,dt_steps)\n",
    "    dR[0] = dRB1[0] + dRB2[0] + dRA[0] \n",
    "\n",
    "    # compute each step\n",
    "    for step in range(1,num_steps):\n",
    "        res[step],dRB1[step],dRB2[step],dRA[step] = WH_switch(res[step-1].copy(),G,m,h,K,Kd,dt_steps)\n",
    "        E[step] = abs((energy(res[step],m,G) - E[0]) / E[0])\n",
    "        dR[step]= dRB1[step] + dRB2[step] + dRA[step] \n",
    "        \n",
    "        # prints percentage of algorithm computed \n",
    "        if step == num_steps - 1:\n",
    "            a = '100.0%'\n",
    "        else:\n",
    "            a = '%.1f' % (step * 100 / num_steps) + '%'\n",
    "        sys.stdout.write('\\r'+a)\n",
    "        sys.stdout.flush()\n",
    "        \n",
    "    return res, E, dR"
   ]
  },
  {
   "cell_type": "markdown",
   "metadata": {},
   "source": [
    "Let's test the algorithm! Here I set the parameters:"
   ]
  },
  {
   "cell_type": "code",
   "execution_count": 8,
   "metadata": {
    "collapsed": true
   },
   "outputs": [],
   "source": [
    "IC = cart_to_helio(state,mass)\n",
    "IC_js = cart_to_helio(p_q_js,masses_js)\n",
    "\n",
    "\n",
    "IC= flatten(IC)\n",
    "IC_js = flatten(IC_js)\n",
    "\n",
    "\n",
    "time = 10  # in years\n",
    "h = 6\n",
    "dt_steps = 60\n",
    "G = 0.00029591220828559104"
   ]
  },
  {
   "cell_type": "markdown",
   "metadata": {},
   "source": [
    "I first test the algorithm with no switching. To do that, run WH_map with K1 as the switching function and K0 as its derivative."
   ]
  },
  {
   "cell_type": "code",
   "execution_count": 9,
   "metadata": {},
   "outputs": [
    {
     "name": "stdout",
     "output_type": "stream",
     "text": [
      "100.0%Time for WH map, 2 planets, 10 years: 2:09:30.165707\n"
     ]
    }
   ],
   "source": [
    "start = datetime.now()\n",
    "test1=WH_map(IC,mass,h,G,time,K1,K0,dt_steps)\n",
    "print('Time for WH map, 2 planets, 10 years:',str(datetime.now() - start))"
   ]
  },
  {
   "cell_type": "markdown",
   "metadata": {},
   "source": [
    "Plot energy error at each time step"
   ]
  },
  {
   "cell_type": "code",
   "execution_count": 10,
   "metadata": {},
   "outputs": [
    {
     "data": {
      "image/png": "[encoded data removed]",
      "text/plain": [
       "<Figure size 432x288 with 1 Axes>"
      ]
     },
     "metadata": {},
     "output_type": "display_data"
    }
   ],
   "source": [
    "plt.plot(test1[1])\n",
    "plt.title('Energy error of WH')\n",
    "plt.xlabel('Step')\n",
    "plt.ylabel('Energy error')\n",
    "plt.yscale('log') \n",
    "plt.show()"
   ]
  },
  {
   "cell_type": "markdown",
   "metadata": {},
   "source": [
    "Plot the symplecticity at each time step"
   ]
  },
  {
   "cell_type": "code",
   "execution_count": 11,
   "metadata": {},
   "outputs": [
    {
     "data": {
      "image/png": "[encoded data removed]",
      "text/plain": [
       "<Figure size 432x288 with 1 Axes>"
      ]
     },
     "metadata": {},
     "output_type": "display_data"
    }
   ],
   "source": [
    "plt.plot(test1[2])\n",
    "plt.title('Symplecticity Test')\n",
    "plt.xlabel('Step')\n",
    "plt.ylabel('dR')\n",
    "plt.yscale('log') \n",
    "plt.ylim(1e-15,1e-12)\n",
    "plt.show()"
   ]
  },
  {
   "cell_type": "markdown",
   "metadata": {},
   "source": [
    "Convert the results of the Wisdom Holman mapping to Cartesian coordinates to plot the orbits"
   ]
  },
  {
   "cell_type": "code",
   "execution_count": 12,
   "metadata": {
    "collapsed": true
   },
   "outputs": [],
   "source": [
    "def rebuild(qp):\n",
    "    \"\"\" Rebuilds flat qp array into shape (n,2,3)\"\"\"\n",
    "    n = int(len(qp)/6)\n",
    "    res = np.zeros((n,2,3))\n",
    "    for i in range(n):\n",
    "        res[i,0] = qp[i:i+3]     \n",
    "        res[i,1] = qp[i+n*3:i+3+n*3]\n",
    "    return res\n",
    "\n",
    "def Rebuild(results,m):\n",
    "    \"\"\" Takes WH map results, rebuild to shape (n,2,3), and converts to \n",
    "        Cartesian coordinates\n",
    "    results: results of WH mapping, np array shape (num_steps,n*2*3)\n",
    "    m: masses, np array shape (n,)\n",
    "    Returns: results in Cartesian coordinates, np array shape (n,2,3)\n",
    "    \"\"\"\n",
    "    n = int(len(results[0])/6)\n",
    "    num_steps = len(results)\n",
    "    res = np.zeros((num_steps,n,2,3))\n",
    "    for step in range(num_steps):\n",
    "        res[step] = rebuild(results[step])\n",
    "        res[step] = helio_to_cart(res[step],m)\n",
    "    return res\n",
    "    \n",
    "test1_cartesian = Rebuild(test1[0],mass)"
   ]
  },
  {
   "cell_type": "code",
   "execution_count": 16,
   "metadata": {},
   "outputs": [
    {
     "data": {
      "image/png": "[encoded data removed]",
      "text/plain": [
       "<Figure size 432x288 with 1 Axes>"
      ]
     },
     "metadata": {},
     "output_type": "display_data"
    }
   ],
   "source": [
    "def plot_orbits(cart_results):\n",
    "    \"\"\"\n",
    "    For two planets and sun\n",
    "    Plots the results of the WH algorithm in x,y,z plane\n",
    "    cart_results: result of WH algorithm in Cartesian coordinates,\n",
    "                    np array size (num_steps,n,2,3)\n",
    "    \"\"\"\n",
    "    ax = plt.axes(projection='3d')\n",
    "    ax.scatter3D(cart_results[:,0,0,0],cart_results[:,0,0,1],cart_results[:,0,0,2],c='red',label='Sun')\n",
    "    ax.scatter3D(cart_results[:,1,0,0],cart_results[:,1,0,1],cart_results[:,1,0,2],c='blue',label='Planet 1')\n",
    "    ax.scatter3D(cart_results[:,2,0,0],cart_results[:,2,0,1],cart_results[:,2,0,2],c='green',label='Planet 2')\n",
    "    ax.legend()\n",
    "    plt.title('Position of planets')\n",
    "    plt.show()\n",
    "    return None\n",
    "\n",
    " \n",
    "plot_orbits(test1_cartesian)"
   ]
  },
  {
   "cell_type": "markdown",
   "metadata": {},
   "source": [
    "Plot the distance between the two planets over time. This will help us decide on the threshhold for the switching functions."
   ]
  },
  {
   "cell_type": "code",
   "execution_count": 17,
   "metadata": {},
   "outputs": [
    {
     "data": {
      "image/png": "[encoded data removed]",
      "text/plain": [
       "<Figure size 432x288 with 1 Axes>"
      ]
     },
     "metadata": {},
     "output_type": "display_data"
    }
   ],
   "source": [
    "def plot_planet_vs(cart_results):\n",
    "    \"\"\"\n",
    "    For two planets and sun\n",
    "    Plots distance between the two planets (useful for switching function)\n",
    "    cart_results: result of WH algorithm in Cartesian coordinates,\n",
    "                    np array size (num_steps,n,2,3)\n",
    "    \"\"\"\n",
    "    num_steps = len(cart_results)\n",
    "    \n",
    "    # compute distance\n",
    "    res = np.zeros((num_steps,))\n",
    "    for i in range(num_steps):\n",
    "        dist = cart_results[i,1,0] - cart_results[i,2,0]\n",
    "        res[i] = np.linalg.norm(dist)      \n",
    "        \n",
    "    # plot\n",
    "    plt.plot(res)\n",
    "    plt.title('Distance between planets')\n",
    "    plt.xlabel('Step')\n",
    "    plt.ylabel('Euclidean distance')\n",
    "    plt.show()\n",
    "    \n",
    "    return None\n",
    "\n",
    "plot_planet_vs(test1_cartesian)"
   ]
  },
  {
   "cell_type": "code",
   "execution_count": null,
   "metadata": {
    "collapsed": true
   },
   "outputs": [],
   "source": []
  }
 ],
 "metadata": {
  "kernelspec": {
   "display_name": "Python 3",
   "language": "python",
   "name": "python3"
  },
  "language_info": {
   "codemirror_mode": {
    "name": "ipython",
    "version": 3
   },
   "file_extension": ".py",
   "mimetype": "text/x-python",
   "name": "python",
   "nbconvert_exporter": "python",
   "pygments_lexer": "ipython3",
   "version": "3.6.6"
  }
 },
 "nbformat": 4,
 "nbformat_minor": 2
}
